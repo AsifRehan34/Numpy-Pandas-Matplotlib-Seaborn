{
 "cells": [
  {
   "cell_type": "markdown",
   "id": "ea479352",
   "metadata": {},
   "source": [
    "# Numpy Definition"
   ]
  },
  {
   "cell_type": "markdown",
   "id": "f1359723",
   "metadata": {},
   "source": [
    "Numpy is called numerical python used to solve numerical data in python."
   ]
  },
  {
   "cell_type": "markdown",
   "id": "b63832f7",
   "metadata": {},
   "source": [
    "it defines multifimentional datatypes like numpy arrays"
   ]
  },
  {
   "cell_type": "markdown",
   "id": "7db43178",
   "metadata": {},
   "source": [
    "it helps in domains like linear algebra , fourier transformation , matrices etc"
   ]
  },
  {
   "cell_type": "markdown",
   "id": "6ad79aea",
   "metadata": {},
   "source": [
    "## Array "
   ]
  },
  {
   "cell_type": "markdown",
   "id": "98321796",
   "metadata": {},
   "source": [
    "array is the collection of items of the same data type store in contigus memory locations.contingus means they will store items in continoues memroy location unlike list or other data types that stores data on different location as per availability in the memroy"
   ]
  },
  {
   "cell_type": "markdown",
   "id": "19aae608",
   "metadata": {},
   "source": [
    "arrays are not comma separated values.\n"
   ]
  },
  {
   "cell_type": "markdown",
   "id": "3e5c417f",
   "metadata": {},
   "source": [
    "#### to import numpy"
   ]
  },
  {
   "cell_type": "code",
   "execution_count": 43,
   "id": "2562f8ae",
   "metadata": {},
   "outputs": [],
   "source": [
    "import numpy as np\n",
    "import statistics as stats"
   ]
  },
  {
   "cell_type": "code",
   "execution_count": 2,
   "id": "2e4a3a4b",
   "metadata": {},
   "outputs": [
    {
     "name": "stdout",
     "output_type": "stream",
     "text": [
      "[[2]\n",
      " [2]\n",
      " [2]]\n"
     ]
    }
   ],
   "source": [
    "a=np.array([[2],[2],[2]])\n",
    "# np.shape(a)\n",
    "print(a)\n"
   ]
  },
  {
   "cell_type": "code",
   "execution_count": 3,
   "id": "c0bbc999",
   "metadata": {},
   "outputs": [
    {
     "name": "stdout",
     "output_type": "stream",
     "text": [
      "[[2]\n",
      " [2]\n",
      " [2]]\n"
     ]
    }
   ],
   "source": [
    "b=np.array([[2],[2],[2]])\n",
    "print(b)"
   ]
  },
  {
   "cell_type": "code",
   "execution_count": 4,
   "id": "3270924c",
   "metadata": {},
   "outputs": [
    {
     "name": "stdout",
     "output_type": "stream",
     "text": [
      "[[4]\n",
      " [4]\n",
      " [4]]\n"
     ]
    }
   ],
   "source": [
    "print(a*b)"
   ]
  },
  {
   "cell_type": "markdown",
   "id": "ab707ff9",
   "metadata": {},
   "source": [
    "#### Erray slicing and function"
   ]
  },
  {
   "cell_type": "code",
   "execution_count": 5,
   "id": "8941ebab",
   "metadata": {},
   "outputs": [
    {
     "name": "stdout",
     "output_type": "stream",
     "text": [
      "[10 30 40]\n"
     ]
    }
   ],
   "source": [
    "a=[10,30,40]\n",
    "arr=np.array(a)\n",
    "print(arr)"
   ]
  },
  {
   "cell_type": "code",
   "execution_count": 7,
   "id": "9e6978db",
   "metadata": {},
   "outputs": [
    {
     "name": "stdout",
     "output_type": "stream",
     "text": [
      "<class 'numpy.ndarray'>\n"
     ]
    }
   ],
   "source": [
    "print(type(arr))"
   ]
  },
  {
   "cell_type": "code",
   "execution_count": 8,
   "id": "d4c94dc9",
   "metadata": {},
   "outputs": [
    {
     "name": "stdout",
     "output_type": "stream",
     "text": [
      "[10 30 40]\n",
      "[10 30 40]\n",
      "[10 30 40]\n"
     ]
    }
   ],
   "source": [
    "print(arr[0:3]) #print elements from 0 index to 2 \n",
    "print(arr[:3]) #print same \n",
    "print(arr[0:]) #print 0 to last element in array"
   ]
  },
  {
   "cell_type": "markdown",
   "id": "37d64822",
   "metadata": {},
   "source": [
    "##### muti dimensional array"
   ]
  },
  {
   "cell_type": "code",
   "execution_count": 14,
   "id": "a17c6161",
   "metadata": {},
   "outputs": [
    {
     "name": "stdout",
     "output_type": "stream",
     "text": [
      "[[1 2 3]\n",
      " [4 5 6]\n",
      " [7 8 9]]\n"
     ]
    }
   ],
   "source": [
    "array=np.array([[1,2,3],[4,5,6],[7,8,9]])\n",
    "print(array)"
   ]
  },
  {
   "cell_type": "code",
   "execution_count": 17,
   "id": "80a4cdd2",
   "metadata": {},
   "outputs": [
    {
     "name": "stdout",
     "output_type": "stream",
     "text": [
      "[[1]\n",
      " [4]\n",
      " [7]]\n"
     ]
    }
   ],
   "source": [
    "#print elements 1 to 2 or each row \n",
    "print(array[0:3,0:1]) \n",
    "#the first part Represent the number of arrays here there are three and 2nd Represent the elements we want to print "
   ]
  },
  {
   "cell_type": "markdown",
   "id": "a2b93a8a-11b1-4bba-9c85-89e2feb30ad9",
   "metadata": {},
   "source": [
    "#### print elements of a specific array "
   ]
  },
  {
   "cell_type": "code",
   "execution_count": 21,
   "id": "3c96abeb-4211-4f02-859c-b0e511b2dd96",
   "metadata": {},
   "outputs": [
    {
     "name": "stdout",
     "output_type": "stream",
     "text": [
      "[4 5]\n"
     ]
    }
   ],
   "source": [
    "print(array[1,0:2]) # here 1 represent the index of the array and after comma the element of the array "
   ]
  },
  {
   "cell_type": "code",
   "execution_count": 22,
   "id": "9c709353-522e-41ad-8c6b-2b9f16c399ba",
   "metadata": {},
   "outputs": [
    {
     "name": "stdout",
     "output_type": "stream",
     "text": [
      "[7 8 9]\n"
     ]
    }
   ],
   "source": [
    "print(array[2,0:]) "
   ]
  },
  {
   "cell_type": "code",
   "execution_count": 25,
   "id": "23918be0-18b2-450c-a459-c446a1546104",
   "metadata": {},
   "outputs": [
    {
     "name": "stdout",
     "output_type": "stream",
     "text": [
      "[[1 2 3]\n",
      " [4 5 6]]\n"
     ]
    }
   ],
   "source": [
    "print(array[0:2,0:3])"
   ]
  },
  {
   "cell_type": "markdown",
   "id": "cad87924-42ee-4da4-838f-2c43abf0bcb3",
   "metadata": {},
   "source": [
    "### print shape of array "
   ]
  },
  {
   "cell_type": "code",
   "execution_count": 26,
   "id": "a7ded6ef-fc20-4fc4-b6cb-e32921908cd0",
   "metadata": {},
   "outputs": [
    {
     "name": "stdout",
     "output_type": "stream",
     "text": [
      "(3, 3)\n"
     ]
    }
   ],
   "source": [
    "print(np.shape(array))"
   ]
  },
  {
   "cell_type": "markdown",
   "id": "bf6e5c17-eaac-4417-a420-2cfbdff9a7a3",
   "metadata": {},
   "source": [
    "#### print size of array \n",
    "#represnt the number of elements "
   ]
  },
  {
   "cell_type": "code",
   "execution_count": 27,
   "id": "c085cc81-3c8b-4cbc-9b15-f7ac319f24fd",
   "metadata": {},
   "outputs": [
    {
     "name": "stdout",
     "output_type": "stream",
     "text": [
      "9\n"
     ]
    }
   ],
   "source": [
    "print(np.size(array))"
   ]
  },
  {
   "cell_type": "markdown",
   "id": "ce5dbcb3-b335-4a11-9c22-1a880964498c",
   "metadata": {},
   "source": [
    "### Dimensions of array "
   ]
  },
  {
   "cell_type": "code",
   "execution_count": 28,
   "id": "3a120730-34eb-4608-bff2-1a1b94251ac8",
   "metadata": {},
   "outputs": [
    {
     "name": "stdout",
     "output_type": "stream",
     "text": [
      "2\n"
     ]
    }
   ],
   "source": [
    "print(np.ndim(array))"
   ]
  },
  {
   "cell_type": "markdown",
   "id": "ca3efe6a-bacd-4c01-b53b-e24b2708a69e",
   "metadata": {},
   "source": [
    "### Datatype of array elements "
   ]
  },
  {
   "cell_type": "code",
   "execution_count": 29,
   "id": "468ec510-fe22-4545-975e-dcbd3a51fd67",
   "metadata": {},
   "outputs": [
    {
     "name": "stdout",
     "output_type": "stream",
     "text": [
      "int64\n"
     ]
    }
   ],
   "source": [
    "print(array.dtype)"
   ]
  },
  {
   "cell_type": "markdown",
   "id": "a36b21c2-d36c-4fb1-80dd-a64ab1880596",
   "metadata": {},
   "source": [
    "## length of array "
   ]
  },
  {
   "cell_type": "code",
   "execution_count": 31,
   "id": "fef97465-94fd-4e51-a6f9-48b9e2a7386b",
   "metadata": {},
   "outputs": [
    {
     "name": "stdout",
     "output_type": "stream",
     "text": [
      "3\n"
     ]
    }
   ],
   "source": [
    "print(len(array))"
   ]
  },
  {
   "cell_type": "markdown",
   "id": "c495e031-9e55-45ff-9009-cff072ec3855",
   "metadata": {},
   "source": [
    "#### change datatype to string float and int "
   ]
  },
  {
   "cell_type": "markdown",
   "id": "0026d66a-c277-4d21-9b57-135b010ff40c",
   "metadata": {},
   "source": [
    "this can be done if all the elenment of the same datatype "
   ]
  },
  {
   "cell_type": "code",
   "execution_count": 32,
   "id": "6374cbae-a41a-4a36-a7c0-7a464bfe253a",
   "metadata": {},
   "outputs": [
    {
     "name": "stdout",
     "output_type": "stream",
     "text": [
      "[[1. 2. 3.]\n",
      " [4. 5. 6.]\n",
      " [7. 8. 9.]]\n"
     ]
    }
   ],
   "source": [
    "print(array.astype(float))"
   ]
  },
  {
   "cell_type": "code",
   "execution_count": 33,
   "id": "aa360cc3-f6f1-4d72-b947-8551c4e2e971",
   "metadata": {},
   "outputs": [
    {
     "name": "stdout",
     "output_type": "stream",
     "text": [
      "[['1' '2' '3']\n",
      " ['4' '5' '6']\n",
      " ['7' '8' '9']]\n"
     ]
    }
   ],
   "source": [
    "print(array.astype(str))"
   ]
  },
  {
   "cell_type": "code",
   "execution_count": 34,
   "id": "2ca3818a-de9a-4071-a839-647ade6c0076",
   "metadata": {},
   "outputs": [
    {
     "name": "stdout",
     "output_type": "stream",
     "text": [
      "[[1 2 3]\n",
      " [4 5 6]\n",
      " [7 8 9]]\n"
     ]
    }
   ],
   "source": [
    "print(array.astype(int))"
   ]
  },
  {
   "cell_type": "markdown",
   "id": "0b34fe3a-4b25-458a-b32d-40cbd5f8dd8a",
   "metadata": {},
   "source": [
    "## Mathematical operation and functions on array\n",
    "** add \n",
    "** multiply \n",
    "** devide\n",
    "** power \n",
    "** sqrt \n"
   ]
  },
  {
   "cell_type": "code",
   "execution_count": 37,
   "id": "9159515a-96a9-49d6-ae90-e6cd226471cf",
   "metadata": {},
   "outputs": [
    {
     "name": "stdout",
     "output_type": "stream",
     "text": [
      "[2 4 6]\n",
      "[2 4 6]\n"
     ]
    }
   ],
   "source": [
    "ar1=np.array([1,2,3])\n",
    "ar2=np.array([1,2,3])\n",
    "#using operation\n",
    "print(ar1+ar2)\n",
    "# using function of np \n",
    "print(np.add(ar1,ar2))"
   ]
  },
  {
   "cell_type": "markdown",
   "id": "e6227195-a998-4611-a6e1-fad7cf8c5ac6",
   "metadata": {},
   "source": [
    "#### subtraction"
   ]
  },
  {
   "cell_type": "code",
   "execution_count": 40,
   "id": "ffa5fbf7-a1bb-4c61-bb3a-b38b68c791ef",
   "metadata": {},
   "outputs": [
    {
     "name": "stdout",
     "output_type": "stream",
     "text": [
      "[0 0 0]\n",
      "[0 0 0]\n"
     ]
    }
   ],
   "source": [
    "print(ar1-ar2)\n",
    "\n",
    "# using function\n",
    "print(np.subtract(ar1,ar2))"
   ]
  },
  {
   "cell_type": "markdown",
   "id": "a64cb033-ab89-4538-be42-d1679da5422f",
   "metadata": {},
   "source": [
    "#### division"
   ]
  },
  {
   "cell_type": "code",
   "execution_count": 42,
   "id": "aa14af01-2ff2-44e0-81d8-931774d1c544",
   "metadata": {},
   "outputs": [
    {
     "name": "stdout",
     "output_type": "stream",
     "text": [
      "[1. 1. 1.]\n",
      "[1. 1. 1.]\n"
     ]
    }
   ],
   "source": [
    "print(ar1/ar2)\n",
    "\n",
    "# using function\n",
    "print (np.divide(ar1,ar2))"
   ]
  },
  {
   "cell_type": "code",
   "execution_count": 44,
   "id": "5a606d74-e328-49d1-ac71-29f5de506f1e",
   "metadata": {},
   "outputs": [
    {
     "name": "stdout",
     "output_type": "stream",
     "text": [
      "[ 1  4 27]\n"
     ]
    }
   ],
   "source": [
    "print(np.power(ar1,ar2))"
   ]
  },
  {
   "cell_type": "code",
   "execution_count": 49,
   "id": "7d1635b5-01b7-4c2e-bf78-85628ce71564",
   "metadata": {},
   "outputs": [
    {
     "name": "stdout",
     "output_type": "stream",
     "text": [
      "[1.         1.41421356 1.73205081]\n"
     ]
    }
   ],
   "source": [
    "print(np.sqrt(ar1,ar2.astype(float))) #changing datatype from int to flaot to store square root values in float "
   ]
  },
  {
   "cell_type": "markdown",
   "id": "98dd4264-242d-43cc-b021-1435366d1a9a",
   "metadata": {},
   "source": [
    "# Combining and splitting arrays"
   ]
  },
  {
   "cell_type": "markdown",
   "id": "a486f127-f2d9-4f73-a6a3-0f7560a02723",
   "metadata": {},
   "source": [
    "by using Concatenate and array_split functions "
   ]
  },
  {
   "cell_type": "code",
   "execution_count": 9,
   "id": "db22d408-7c9e-4ad4-8639-a3a328cd680f",
   "metadata": {
    "editable": true,
    "slideshow": {
     "slide_type": ""
    },
    "tags": []
   },
   "outputs": [
    {
     "name": "stdout",
     "output_type": "stream",
     "text": [
      "[1 3 4 3 3 4]\n"
     ]
    }
   ],
   "source": [
    "a=np.array([1,3,4])\n",
    "b=np.array([3,3,4])\n",
    "print(np.concatenate([a,b],axis=0)) #where 0 dermines the vertical dimension and as it is single row matrices this cant have horizontal concatenation\n",
    "# hence axis=1 will through error"
   ]
  },
  {
   "cell_type": "code",
   "execution_count": 12,
   "id": "7fa1da19-ec7f-4c81-b260-2ac2911add6c",
   "metadata": {},
   "outputs": [
    {
     "name": "stdout",
     "output_type": "stream",
     "text": [
      "[[ 1  4 45]\n",
      " [ 4  5  3]\n",
      " [ 4  4  4]\n",
      " [ 8  4  5]]\n"
     ]
    }
   ],
   "source": [
    "a=np.array([[1,4,45],[4,5,3]])\n",
    "b=np.array([[4,4,4],[8,4,5]])\n",
    "c=np.concatenate([a,b],axis=0) #vertical concatenation \n",
    "print(c)"
   ]
  },
  {
   "cell_type": "code",
   "execution_count": 13,
   "id": "4c2cb92b-150d-4ded-88f2-4903a6f1e2cc",
   "metadata": {},
   "outputs": [
    {
     "name": "stdout",
     "output_type": "stream",
     "text": [
      "[[ 1  4 45  4  4  4]\n",
      " [ 4  5  3  8  4  5]]\n"
     ]
    }
   ],
   "source": [
    "a=np.array([[1,4,45],[4,5,3]])\n",
    "b=np.array([[4,4,4],[8,4,5]])\n",
    "c=np.concatenate([a,b],axis=1) #horizontal concatenation \n",
    "print(c)"
   ]
  },
  {
   "cell_type": "code",
   "execution_count": 14,
   "id": "3c10e6aa-7069-4fbe-9e09-fa50df557a65",
   "metadata": {},
   "outputs": [
    {
     "name": "stdout",
     "output_type": "stream",
     "text": [
      "[[ 1  4 45]\n",
      " [ 4  5  3]\n",
      " [ 4  4  4]\n",
      " [ 8  4  5]]\n"
     ]
    }
   ],
   "source": [
    "a=np.array([[1,4,45],[4,5,3]])\n",
    "b=np.array([[4,4,4],[8,4,5]])\n",
    "c=np.vstack([a,b])\n",
    "print(c)"
   ]
  },
  {
   "cell_type": "code",
   "execution_count": 16,
   "id": "4c79dd17-a277-4700-84a3-9abea1366795",
   "metadata": {},
   "outputs": [
    {
     "name": "stdout",
     "output_type": "stream",
     "text": [
      "[[ 1  4 45  4  4  4]\n",
      " [ 4  5  3  8  4  5]]\n"
     ]
    }
   ],
   "source": [
    "a=np.array([[1,4,45],[4,5,3]])\n",
    "b=np.array([[4,4,4],[8,4,5]])\n",
    "c=np.hstack([a,b])\n",
    "print(c)"
   ]
  },
  {
   "cell_type": "markdown",
   "id": "b9464d34-0fb5-4f84-b60c-1ab3af85bdbe",
   "metadata": {},
   "source": [
    "### Array_split function to split array \n",
    "array_split(name_of_array,int or the number of arrays u want to split in)\n",
    "e.g print(array.split(a,3))"
   ]
  },
  {
   "cell_type": "code",
   "execution_count": 20,
   "id": "52c393e0-d276-4a05-a93e-d8b041e40489",
   "metadata": {},
   "outputs": [
    {
     "name": "stdout",
     "output_type": "stream",
     "text": [
      "[array([1, 4]), array([45,  4]), array([5, 3])]\n"
     ]
    }
   ],
   "source": [
    "a=np.array([1,4,45,4,5,3])\n",
    "b=np.array([[4,4,4],[8,4,5]])\n",
    "c=np.array_split(a,3)\n",
    "print(c)"
   ]
  },
  {
   "cell_type": "code",
   "execution_count": 21,
   "id": "55a64838-b951-4dce-bc20-ab295436b352",
   "metadata": {},
   "outputs": [
    {
     "name": "stdout",
     "output_type": "stream",
     "text": [
      "[array([[4, 4, 4]]), array([[8, 4, 5]]), array([], shape=(0, 3), dtype=int64)]\n"
     ]
    }
   ],
   "source": [
    "a=np.array([[1,4,45],[4,5,3]])\n",
    "b=np.array([[4,4,4],[8,4,5]])\n",
    "c=np.array_split(b,3)\n",
    "print(c)"
   ]
  },
  {
   "cell_type": "markdown",
   "id": "ac2e638b-513d-47a5-b441-94096d1d921e",
   "metadata": {},
   "source": [
    "### adding and removing elements in arrays "
   ]
  },
  {
   "cell_type": "code",
   "execution_count": 29,
   "id": "584a7662-1426-44ba-a749-b65b157d3dcb",
   "metadata": {},
   "outputs": [
    {
     "name": "stdout",
     "output_type": "stream",
     "text": [
      "[  1   4  45   4   5   3 293]\n"
     ]
    }
   ],
   "source": [
    "a=np.array([[1,4,45],[4,5,3]])\n",
    "b=np.array([[4,4,4],[8,4,5]])\n",
    "\n",
    "print(np.append(a,[293]))"
   ]
  },
  {
   "cell_type": "code",
   "execution_count": 34,
   "id": "99e21fb4-0815-4e17-9916-0c3d406cd502",
   "metadata": {},
   "outputs": [
    {
     "name": "stdout",
     "output_type": "stream",
     "text": [
      "[  1   4  45   4   5   3 293  30  39]\n"
     ]
    }
   ],
   "source": [
    "a=np.array([[1,4,45],[4,5,3]])\n",
    "b=np.array([[4,4,4],[8,4,5]])\n",
    "\n",
    "print(np.append(a,[293,30,39]))"
   ]
  },
  {
   "cell_type": "code",
   "execution_count": 41,
   "id": "de3bca6d-cdc9-4803-bcf7-1ba501780f51",
   "metadata": {},
   "outputs": [
    {
     "name": "stdout",
     "output_type": "stream",
     "text": [
      "[[  1   4  45]\n",
      " [293  39  40]\n",
      " [  4   5   3]]\n"
     ]
    }
   ],
   "source": [
    "a=np.array([[1,4,45],[4,5,3]])\n",
    "b=np.array([[4,4,4],[8,4,5]])\n",
    "\n",
    "print(np.insert(a,1,[293,39,40],axis=0)) #inser (array,index,value) "
   ]
  },
  {
   "cell_type": "code",
   "execution_count": 43,
   "id": "d2bb489f-07f7-46bc-958a-092fbe0507c1",
   "metadata": {},
   "outputs": [
    {
     "name": "stdout",
     "output_type": "stream",
     "text": [
      "[[ 1  4 45]\n",
      " [30 30 30]\n",
      " [ 4  5  3]\n",
      " [30 30 30]]\n"
     ]
    }
   ],
   "source": [
    "a=np.array([[1,4,45],[4,5,3]])\n",
    "b=np.array([[4,4,4],[8,4,5]])\n",
    "\n",
    "print(np.insert(a,[1,2],[30],axis=0))  #it adds value at index 1 and 2 and the dimension is vertical "
   ]
  },
  {
   "cell_type": "code",
   "execution_count": 46,
   "id": "a1d2db75-9abd-4e31-8838-9885990d630e",
   "metadata": {},
   "outputs": [
    {
     "name": "stdout",
     "output_type": "stream",
     "text": [
      "[ 1  4 45  4  5  3]\n",
      "\n",
      "[[ 1 30  4 30 45]\n",
      " [ 4 30  5 30  3]]\n"
     ]
    }
   ],
   "source": [
    "a=np.array([[1,4,45],[4,5,3]])\n",
    "b=np.array([[4,4,4],[8,4,5]])\n",
    "print(n.hstack())\n",
    "\n",
    "print(np.insert(a,[1,2],[30],axis=1)) #here the dimension is horizontal "
   ]
  },
  {
   "cell_type": "markdown",
   "id": "b21e16f9-02a9-4db8-b68c-a7b706944533",
   "metadata": {},
   "source": [
    "In the np.insert function, the parameters obj, values, and axis have specific meanings:\n",
    "\n",
    "obj: The index or indices before which values are inserted.\n",
    "values: The values to insert into the array.\n",
    "axis: The axis along which to insert the values. If axis is specified, values must have the correct shape.\n",
    "When you use np.insert(a, [1, 2], [30], axis=1), it means:\n",
    "\n",
    "a: The original array a.\n",
    "[1, 2]: The indices before which values will be inserted. This means values will be inserted before the columns at index 1 and index 2.\n",
    "[30]: The values to insert. Since only one value [30] is given, NumPy will broadcast this value to match the required shape.\n",
    "axis=1: This specifies that the insertion should happen along the columns.\n",
    "However, since you are inserting along axis 1 (columns) and only providing a single value [30], the value will be broadcasted to fit into each row at the specified column indices."
   ]
  },
  {
   "cell_type": "markdown",
   "id": "c21b14ee-d1c0-4538-841a-15d5bbc6500d",
   "metadata": {},
   "source": [
    "### delete elements in array "
   ]
  },
  {
   "cell_type": "code",
   "execution_count": 48,
   "id": "e7568b67-05fa-49fb-9298-a66061180729",
   "metadata": {},
   "outputs": [
    {
     "name": "stdout",
     "output_type": "stream",
     "text": [
      "[ 3 40]\n"
     ]
    }
   ],
   "source": [
    "arr=np.array([3,30,40])\n",
    "print(np.delete(arr,1))\n"
   ]
  },
  {
   "cell_type": "code",
   "execution_count": 50,
   "id": "9c0f9871-40b2-4497-b7ae-f5500bdaaf2b",
   "metadata": {},
   "outputs": [
    {
     "name": "stdout",
     "output_type": "stream",
     "text": [
      "[[ 3 30 40]]\n"
     ]
    }
   ],
   "source": [
    "arr=np.array([[3,30,40],[333,399,393]])\n",
    "print(np.delete(arr,1,axis=0))\n"
   ]
  },
  {
   "cell_type": "code",
   "execution_count": 51,
   "id": "8675a672-0882-42b0-be9b-33fa3abef4ef",
   "metadata": {},
   "outputs": [
    {
     "name": "stdout",
     "output_type": "stream",
     "text": [
      "[[  3  40]\n",
      " [333 393]]\n"
     ]
    }
   ],
   "source": [
    "arr=np.array([[3,30,40],[333,399,393]])\n",
    "print(np.delete(arr,1,axis=1))\n"
   ]
  },
  {
   "cell_type": "markdown",
   "id": "5c11eb6e-3104-4a07-8213-748cf4af6479",
   "metadata": {},
   "source": [
    "### Numpy search sort and filter "
   ]
  },
  {
   "cell_type": "markdown",
   "id": "ea6a5dcb-ebe5-45bb-8fd1-ff5df2ce44cf",
   "metadata": {},
   "source": [
    "### sort"
   ]
  },
  {
   "cell_type": "code",
   "execution_count": 52,
   "id": "50379560-2647-49da-94e0-78ff91284782",
   "metadata": {},
   "outputs": [
    {
     "name": "stdout",
     "output_type": "stream",
     "text": [
      "[[  3  30  40]\n",
      " [333 393 399]]\n"
     ]
    }
   ],
   "source": [
    "arr=np.array([[3,30,40],[333,399,393]])\n",
    "print(np.sort(arr))\n"
   ]
  },
  {
   "cell_type": "markdown",
   "id": "0ee44d7c-9fbb-4a18-804f-5ad868d3c5b5",
   "metadata": {},
   "source": [
    "### search == where and search sorted\n",
    "to use searchsorted the array must be sorted "
   ]
  },
  {
   "cell_type": "code",
   "execution_count": 57,
   "id": "467ca440-1198-451a-85c2-340aec416ee5",
   "metadata": {},
   "outputs": [
    {
     "name": "stdout",
     "output_type": "stream",
     "text": [
      "(array([1]), array([0]))\n"
     ]
    }
   ],
   "source": [
    "arr=np.array([[3,30,40],[333,399,393]])\n",
    "print(np.where(arr==333))\n"
   ]
  },
  {
   "cell_type": "code",
   "execution_count": 62,
   "id": "314876a2-f079-4624-a418-a86742a1b75f",
   "metadata": {},
   "outputs": [
    {
     "name": "stdout",
     "output_type": "stream",
     "text": [
      "1\n"
     ]
    }
   ],
   "source": [
    "arr=np.array([3,30,40])\n",
    "s=np.searchsorted(arr,30)\n",
    "print(s)"
   ]
  },
  {
   "cell_type": "markdown",
   "id": "584ee4f4-e853-4b01-8b4a-c252334584c5",
   "metadata": {},
   "source": [
    "### filter "
   ]
  },
  {
   "cell_type": "code",
   "execution_count": 63,
   "id": "94a47422-3644-4e8a-a8d8-277471b4589a",
   "metadata": {},
   "outputs": [
    {
     "name": "stdout",
     "output_type": "stream",
     "text": [
      "[2 5 5]\n"
     ]
    }
   ],
   "source": [
    "arr=np.array([2,3,5,5])\n",
    "arr2=[True,False,True,True]\n",
    "new=arr[arr2]\n",
    "print(new)\n"
   ]
  },
  {
   "cell_type": "markdown",
   "id": "c44eefbf-5792-4abb-8b33-74f1203b5f06",
   "metadata": {},
   "source": [
    "# Aggregating functions in Numpy"
   ]
  },
  {
   "cell_type": "code",
   "execution_count": 14,
   "id": "fb87fe87-b835-4f5f-a7d8-84c86ff14b40",
   "metadata": {},
   "outputs": [
    {
     "name": "stdout",
     "output_type": "stream",
     "text": [
      "[100 150 200 300]\n",
      "750\n",
      "100\n",
      "300\n",
      "4\n",
      "187.5\n",
      "175.0\n",
      "[100 250 450 750]\n",
      "[      100     15000   3000000 900000000]\n"
     ]
    }
   ],
   "source": [
    "a=np.array([100,150,200,300])\n",
    "print(a)\n",
    "\n",
    "#aggregating functions\n",
    "print(np.sum(a))\n",
    "print(np.min(a))\n",
    "print(np.max(a))\n",
    "print(np.size(a))\n",
    "print(np.mean(a))\n",
    "print(np.median(a))\n",
    "print(np.cumsum(a)) #add the succesive elemets\n",
    "print(np.cumprod(a)) #multiply the successive elements\n"
   ]
  },
  {
   "cell_type": "markdown",
   "id": "fa703bc6-017d-4807-800d-6efae2cf9ef3",
   "metadata": {},
   "source": [
    "#### Now for multidimentional array i.e., 2d array "
   ]
  },
  {
   "cell_type": "code",
   "execution_count": 30,
   "id": "4dfe3f32-f54d-4902-8591-3e7fb411917e",
   "metadata": {},
   "outputs": [
    {
     "name": "stdout",
     "output_type": "stream",
     "text": [
      "[350 450 550]\n"
     ]
    }
   ],
   "source": [
    "a=np.array([[100,150,200],[250,300,350]])\n",
    "print(np.sum(a,axis=0))"
   ]
  },
  {
   "cell_type": "markdown",
   "id": "4d9e959b-78ed-4936-bdde-4bf38110d229",
   "metadata": {},
   "source": [
    "#### use of cumulative sum and product for multiply column values and then adding to get the total output "
   ]
  },
  {
   "cell_type": "code",
   "execution_count": 37,
   "id": "ec620a0d-5b6e-4379-89bf-e7d7d3962b4f",
   "metadata": {},
   "outputs": [
    {
     "name": "stdout",
     "output_type": "stream",
     "text": [
      "[ 100  250  450  700 1000 1350]\n",
      "\n",
      "[[ 100  150  200  250  300  350]\n",
      " [ 200  450  800 1250 1800 2450]]\n",
      "\n",
      " 6950\n"
     ]
    }
   ],
   "source": [
    "a=np.array([100,150,200,250,300,350])\n",
    "b=np.array([2,3,4,5,6,7])\n",
    "print(np.cumsum(a))\n",
    "print()\n",
    "x=np.cumprod([a,b],axis=0)\n",
    "print(x)\n",
    "print(\"\\n\", x[1].sum())"
   ]
  },
  {
   "cell_type": "markdown",
   "id": "08173a7f-8ace-4093-85a0-9bbef981ace0",
   "metadata": {},
   "source": [
    "## Statistical functions"
   ]
  },
  {
   "cell_type": "markdown",
   "id": "a3dcc00b-893b-489c-bbff-30740508caef",
   "metadata": {},
   "source": [
    "#### 1. mean\n",
    "average value or sum of all values divided by number of values\n",
    "#### 2. median \n",
    "central value or if the number of values are even then adding both central values and taking their average\n",
    "#### 3. mod \n",
    "most occuring value in the array . Numpy don't have any function to calculate mod so we have to import statistics libray and then use the mod function\n",
    "#### 4. standard daviation\n",
    "std or standard deviation is the deviation of value from standard data point. the larger the std value more the data is deviated closer to 1 less the\n",
    "data is deviated. smaller values less deviation.\n",
    "#### 5. variance \n",
    "variance here is the square of standard daviation . they both show the spread of the data. larger the value means data is widely spread.\n",
    "#### 6. Coefficient of correlation \n",
    "correcoef() function shows the relation ship between two values. -1 means inverse propotional means if one value increases other decreases\n",
    "0 means no change\n",
    "1 means dirrectly proportional increasing in one value increases the other value\n"
   ]
  },
  {
   "cell_type": "code",
   "execution_count": 48,
   "id": "a72dd06d-0372-460a-aaeb-1c00d422bff0",
   "metadata": {},
   "outputs": [
    {
     "name": "stdout",
     "output_type": "stream",
     "text": [
      "[150 200 250 180 210 210 300]\n",
      "214.28571428571428\n",
      "210.0\n",
      "210\n",
      "44.99433070863892\n",
      "2024.4897959183675\n"
     ]
    }
   ],
   "source": [
    "\n",
    "baked_food=[150,200,250,180,210,210,300]\n",
    "a=np.array(baked_food)\n",
    "print(a)\n",
    "# applying statistical function \n",
    "print(np.mean(a))\n",
    "print(np.median(a)) # central value after sorting the array \n",
    "print(stats.mode(a)) #most occuring value\n",
    "print(np.std(a))\n",
    "print(np.var(a))"
   ]
  },
  {
   "cell_type": "code",
   "execution_count": 52,
   "id": "c2c3d0ef-33ea-4af3-8294-30f9fdb9eff4",
   "metadata": {},
   "outputs": [
    {
     "name": "stdout",
     "output_type": "stream",
     "text": [
      "[[1.         0.73581674]\n",
      " [0.73581674 1.        ]]\n"
     ]
    }
   ],
   "source": [
    "tobacoo_consumtion=np.array([100,130,200,230])\n",
    "deaths=np.array([3,5,4,20])\n",
    "print(np.corrcoef([tobacoo_consumtion,deaths]))\n",
    "\n",
    "#this shows when the tobacco consumption increases the number of deaths increases"
   ]
  },
  {
   "cell_type": "code",
   "execution_count": 54,
   "id": "8a34d79c-5eb3-495b-b2ef-0f34db9b678f",
   "metadata": {},
   "outputs": [
    {
     "name": "stdout",
     "output_type": "stream",
     "text": [
      "[[ 1.         -0.96691659]\n",
      " [-0.96691659  1.        ]]\n"
     ]
    }
   ],
   "source": [
    "price=np.array([100,200,150,190])\n",
    "sales=np.array([20,13,15,14])\n",
    "print(np.corrcoef([price,sales]))\n",
    "\n",
    "#here the negative values shows that with increase in price the sales decreased"
   ]
  }
 ],
 "metadata": {
  "kernelspec": {
   "display_name": "Python 3 (ipykernel)",
   "language": "python",
   "name": "python3"
  },
  "language_info": {
   "codemirror_mode": {
    "name": "ipython",
    "version": 3
   },
   "file_extension": ".py",
   "mimetype": "text/x-python",
   "name": "python",
   "nbconvert_exporter": "python",
   "pygments_lexer": "ipython3",
   "version": "3.12.4"
  }
 },
 "nbformat": 4,
 "nbformat_minor": 5
}
